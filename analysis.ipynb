{
 "cells": [
  {
   "cell_type": "markdown",
   "metadata": {},
   "source": [
    "# Imports"
   ]
  },
  {
   "cell_type": "code",
   "execution_count": 3,
   "metadata": {},
   "outputs": [],
   "source": [
    "import numpy as np\n",
    "import pandas as pd\n",
    "import matplotlib.pyplot as plt\n",
    "import seaborn as sns"
   ]
  },
  {
   "attachments": {},
   "cell_type": "markdown",
   "metadata": {},
   "source": [
    "# Question 1"
   ]
  },
  {
   "attachments": {},
   "cell_type": "markdown",
   "metadata": {},
   "source": [
    "## Read"
   ]
  },
  {
   "cell_type": "code",
   "execution_count": 4,
   "metadata": {},
   "outputs": [
    {
     "data": {
      "text/html": [
       "<div>\n",
       "<style scoped>\n",
       "    .dataframe tbody tr th:only-of-type {\n",
       "        vertical-align: middle;\n",
       "    }\n",
       "\n",
       "    .dataframe tbody tr th {\n",
       "        vertical-align: top;\n",
       "    }\n",
       "\n",
       "    .dataframe thead th {\n",
       "        text-align: right;\n",
       "    }\n",
       "</style>\n",
       "<table border=\"1\" class=\"dataframe\">\n",
       "  <thead>\n",
       "    <tr style=\"text-align: right;\">\n",
       "      <th></th>\n",
       "      <th>show_id</th>\n",
       "      <th>type</th>\n",
       "      <th>title</th>\n",
       "      <th>duration</th>\n",
       "    </tr>\n",
       "  </thead>\n",
       "  <tbody>\n",
       "    <tr>\n",
       "      <th>0</th>\n",
       "      <td>80224924</td>\n",
       "      <td>Movie</td>\n",
       "      <td>Expedition China</td>\n",
       "      <td>78 min</td>\n",
       "    </tr>\n",
       "    <tr>\n",
       "      <th>1</th>\n",
       "      <td>80149575</td>\n",
       "      <td>Movie</td>\n",
       "      <td>Caida del Cielo</td>\n",
       "      <td>78 min</td>\n",
       "    </tr>\n",
       "    <tr>\n",
       "      <th>2</th>\n",
       "      <td>80175822</td>\n",
       "      <td>TV Show</td>\n",
       "      <td>Blazing Transfer Students</td>\n",
       "      <td>1 Season</td>\n",
       "    </tr>\n",
       "    <tr>\n",
       "      <th>3</th>\n",
       "      <td>80166467</td>\n",
       "      <td>TV Show</td>\n",
       "      <td>Ellen DeGeneres: Relatable</td>\n",
       "      <td>1 Season</td>\n",
       "    </tr>\n",
       "    <tr>\n",
       "      <th>4</th>\n",
       "      <td>70123116</td>\n",
       "      <td>Movie</td>\n",
       "      <td>Agyaat</td>\n",
       "      <td>97 min</td>\n",
       "    </tr>\n",
       "    <tr>\n",
       "      <th>...</th>\n",
       "      <td>...</td>\n",
       "      <td>...</td>\n",
       "      <td>...</td>\n",
       "      <td>...</td>\n",
       "    </tr>\n",
       "    <tr>\n",
       "      <th>3112</th>\n",
       "      <td>80042307</td>\n",
       "      <td>TV Show</td>\n",
       "      <td>Some Assembly Required</td>\n",
       "      <td>2 Seasons</td>\n",
       "    </tr>\n",
       "    <tr>\n",
       "      <th>3113</th>\n",
       "      <td>80225696</td>\n",
       "      <td>TV Show</td>\n",
       "      <td>Hot Date</td>\n",
       "      <td>1 Season</td>\n",
       "    </tr>\n",
       "    <tr>\n",
       "      <th>3114</th>\n",
       "      <td>80183878</td>\n",
       "      <td>TV Show</td>\n",
       "      <td>Let's Eat 2</td>\n",
       "      <td>1 Season</td>\n",
       "    </tr>\n",
       "    <tr>\n",
       "      <th>3115</th>\n",
       "      <td>80141858</td>\n",
       "      <td>Movie</td>\n",
       "      <td>LEGO Jurassic World: The Indominus Escape</td>\n",
       "      <td>25 min</td>\n",
       "    </tr>\n",
       "    <tr>\n",
       "      <th>3116</th>\n",
       "      <td>70213079</td>\n",
       "      <td>TV Show</td>\n",
       "      <td>Power Rangers Ninja Storm</td>\n",
       "      <td>1 Season</td>\n",
       "    </tr>\n",
       "  </tbody>\n",
       "</table>\n",
       "<p>3117 rows × 4 columns</p>\n",
       "</div>"
      ],
      "text/plain": [
       "       show_id     type                                      title   duration\n",
       "0     80224924    Movie                           Expedition China     78 min\n",
       "1     80149575    Movie                            Caida del Cielo     78 min\n",
       "2     80175822  TV Show                  Blazing Transfer Students   1 Season\n",
       "3     80166467  TV Show                 Ellen DeGeneres: Relatable   1 Season\n",
       "4     70123116    Movie                                     Agyaat     97 min\n",
       "...        ...      ...                                        ...        ...\n",
       "3112  80042307  TV Show                     Some Assembly Required  2 Seasons\n",
       "3113  80225696  TV Show                                   Hot Date   1 Season\n",
       "3114  80183878  TV Show                                Let's Eat 2   1 Season\n",
       "3115  80141858    Movie  LEGO Jurassic World: The Indominus Escape     25 min\n",
       "3116  70213079  TV Show                  Power Rangers Ninja Storm   1 Season\n",
       "\n",
       "[3117 rows x 4 columns]"
      ]
     },
     "execution_count": 4,
     "metadata": {},
     "output_type": "execute_result"
    }
   ],
   "source": [
    "df11 = pd.read_csv(\"./data/Table_1_1 (1).csv\")\n",
    "df11"
   ]
  },
  {
   "cell_type": "code",
   "execution_count": 5,
   "metadata": {},
   "outputs": [
    {
     "data": {
      "text/html": [
       "<div>\n",
       "<style scoped>\n",
       "    .dataframe tbody tr th:only-of-type {\n",
       "        vertical-align: middle;\n",
       "    }\n",
       "\n",
       "    .dataframe tbody tr th {\n",
       "        vertical-align: top;\n",
       "    }\n",
       "\n",
       "    .dataframe thead th {\n",
       "        text-align: right;\n",
       "    }\n",
       "</style>\n",
       "<table border=\"1\" class=\"dataframe\">\n",
       "  <thead>\n",
       "    <tr style=\"text-align: right;\">\n",
       "      <th></th>\n",
       "      <th>show_id</th>\n",
       "      <th>country</th>\n",
       "      <th>director</th>\n",
       "      <th>cast</th>\n",
       "    </tr>\n",
       "  </thead>\n",
       "  <tbody>\n",
       "    <tr>\n",
       "      <th>0</th>\n",
       "      <td>80224924</td>\n",
       "      <td>NaN</td>\n",
       "      <td>Ben Wallis</td>\n",
       "      <td>Maggie Q</td>\n",
       "    </tr>\n",
       "    <tr>\n",
       "      <th>1</th>\n",
       "      <td>80149575</td>\n",
       "      <td>Argentina</td>\n",
       "      <td>Néstor Sánchez Sotelo</td>\n",
       "      <td>Muriel Santa Ana, Peto Menahem, Héctor Díaz, S...</td>\n",
       "    </tr>\n",
       "    <tr>\n",
       "      <th>2</th>\n",
       "      <td>80175822</td>\n",
       "      <td>Japan</td>\n",
       "      <td>NaN</td>\n",
       "      <td>Daiki Shigeoka, Akito Kiriyama, Junta Nakama, ...</td>\n",
       "    </tr>\n",
       "    <tr>\n",
       "      <th>3</th>\n",
       "      <td>80166467</td>\n",
       "      <td>United States</td>\n",
       "      <td>Joel Gallen, Tig Notaro</td>\n",
       "      <td>Ellen DeGeneres</td>\n",
       "    </tr>\n",
       "    <tr>\n",
       "      <th>4</th>\n",
       "      <td>70123116</td>\n",
       "      <td>India</td>\n",
       "      <td>Ram Gopal Varma</td>\n",
       "      <td>Adesh Bhardwaj, Rasika Dugal, Joy Fernandes, R...</td>\n",
       "    </tr>\n",
       "    <tr>\n",
       "      <th>...</th>\n",
       "      <td>...</td>\n",
       "      <td>...</td>\n",
       "      <td>...</td>\n",
       "      <td>...</td>\n",
       "    </tr>\n",
       "    <tr>\n",
       "      <th>3112</th>\n",
       "      <td>80042307</td>\n",
       "      <td>Canada</td>\n",
       "      <td>NaN</td>\n",
       "      <td>Kolton Stewart, Harrison Houde, Charlie Storwi...</td>\n",
       "    </tr>\n",
       "    <tr>\n",
       "      <th>3113</th>\n",
       "      <td>80225696</td>\n",
       "      <td>United States</td>\n",
       "      <td>NaN</td>\n",
       "      <td>Emily Axford, Brian Murphy</td>\n",
       "    </tr>\n",
       "    <tr>\n",
       "      <th>3114</th>\n",
       "      <td>80183878</td>\n",
       "      <td>Malaysia, Singapore, Hong Kong</td>\n",
       "      <td>NaN</td>\n",
       "      <td>Yoon Du-jun, Seo Hyun-jin, Kwon Yul, Kim Hee-w...</td>\n",
       "    </tr>\n",
       "    <tr>\n",
       "      <th>3115</th>\n",
       "      <td>80141858</td>\n",
       "      <td>United States</td>\n",
       "      <td>Michael D. Black</td>\n",
       "      <td>A.J. LoCascio, Sendhil Ramamurthy, Fred Tatasc...</td>\n",
       "    </tr>\n",
       "    <tr>\n",
       "      <th>3116</th>\n",
       "      <td>70213079</td>\n",
       "      <td>United States, New Zealand</td>\n",
       "      <td>NaN</td>\n",
       "      <td>Pua Magasiva, Sally Martin, Glenn McMillan, Ad...</td>\n",
       "    </tr>\n",
       "  </tbody>\n",
       "</table>\n",
       "<p>3117 rows × 4 columns</p>\n",
       "</div>"
      ],
      "text/plain": [
       "       show_id                         country                 director   \n",
       "0     80224924                             NaN               Ben Wallis  \\\n",
       "1     80149575                       Argentina    Néstor Sánchez Sotelo   \n",
       "2     80175822                           Japan                      NaN   \n",
       "3     80166467                   United States  Joel Gallen, Tig Notaro   \n",
       "4     70123116                           India          Ram Gopal Varma   \n",
       "...        ...                             ...                      ...   \n",
       "3112  80042307                          Canada                      NaN   \n",
       "3113  80225696                   United States                      NaN   \n",
       "3114  80183878  Malaysia, Singapore, Hong Kong                      NaN   \n",
       "3115  80141858                   United States         Michael D. Black   \n",
       "3116  70213079      United States, New Zealand                      NaN   \n",
       "\n",
       "                                                   cast  \n",
       "0                                              Maggie Q  \n",
       "1     Muriel Santa Ana, Peto Menahem, Héctor Díaz, S...  \n",
       "2     Daiki Shigeoka, Akito Kiriyama, Junta Nakama, ...  \n",
       "3                                       Ellen DeGeneres  \n",
       "4     Adesh Bhardwaj, Rasika Dugal, Joy Fernandes, R...  \n",
       "...                                                 ...  \n",
       "3112  Kolton Stewart, Harrison Houde, Charlie Storwi...  \n",
       "3113                         Emily Axford, Brian Murphy  \n",
       "3114  Yoon Du-jun, Seo Hyun-jin, Kwon Yul, Kim Hee-w...  \n",
       "3115  A.J. LoCascio, Sendhil Ramamurthy, Fred Tatasc...  \n",
       "3116  Pua Magasiva, Sally Martin, Glenn McMillan, Ad...  \n",
       "\n",
       "[3117 rows x 4 columns]"
      ]
     },
     "execution_count": 5,
     "metadata": {},
     "output_type": "execute_result"
    }
   ],
   "source": [
    "df12 = pd.read_csv(\"./data/Table_1_2 (1).csv\")\n",
    "df12"
   ]
  },
  {
   "cell_type": "code",
   "execution_count": 6,
   "metadata": {},
   "outputs": [
    {
     "data": {
      "text/html": [
       "<div>\n",
       "<style scoped>\n",
       "    .dataframe tbody tr th:only-of-type {\n",
       "        vertical-align: middle;\n",
       "    }\n",
       "\n",
       "    .dataframe tbody tr th {\n",
       "        vertical-align: top;\n",
       "    }\n",
       "\n",
       "    .dataframe thead th {\n",
       "        text-align: right;\n",
       "    }\n",
       "</style>\n",
       "<table border=\"1\" class=\"dataframe\">\n",
       "  <thead>\n",
       "    <tr style=\"text-align: right;\">\n",
       "      <th></th>\n",
       "      <th>show_id</th>\n",
       "      <th>type</th>\n",
       "      <th>title</th>\n",
       "      <th>duration</th>\n",
       "    </tr>\n",
       "  </thead>\n",
       "  <tbody>\n",
       "    <tr>\n",
       "      <th>0</th>\n",
       "      <td>81145628</td>\n",
       "      <td>Movie</td>\n",
       "      <td>Norm of the North: King Sized Adventure</td>\n",
       "      <td>90 min</td>\n",
       "    </tr>\n",
       "    <tr>\n",
       "      <th>1</th>\n",
       "      <td>70234439</td>\n",
       "      <td>TV Show</td>\n",
       "      <td>Transformers Prime</td>\n",
       "      <td>1 Season</td>\n",
       "    </tr>\n",
       "    <tr>\n",
       "      <th>2</th>\n",
       "      <td>70304990</td>\n",
       "      <td>Movie</td>\n",
       "      <td>Good People</td>\n",
       "      <td>90 min</td>\n",
       "    </tr>\n",
       "    <tr>\n",
       "      <th>3</th>\n",
       "      <td>80169755</td>\n",
       "      <td>Movie</td>\n",
       "      <td>Joaquín Reyes: Una y no más</td>\n",
       "      <td>78 min</td>\n",
       "    </tr>\n",
       "    <tr>\n",
       "      <th>4</th>\n",
       "      <td>70299204</td>\n",
       "      <td>Movie</td>\n",
       "      <td>Kidnapping Mr. Heineken</td>\n",
       "      <td>95 min</td>\n",
       "    </tr>\n",
       "    <tr>\n",
       "      <th>...</th>\n",
       "      <td>...</td>\n",
       "      <td>...</td>\n",
       "      <td>...</td>\n",
       "      <td>...</td>\n",
       "    </tr>\n",
       "    <tr>\n",
       "      <th>3112</th>\n",
       "      <td>80159925</td>\n",
       "      <td>TV Show</td>\n",
       "      <td>Kikoriki</td>\n",
       "      <td>2 Seasons</td>\n",
       "    </tr>\n",
       "    <tr>\n",
       "      <th>3113</th>\n",
       "      <td>80000063</td>\n",
       "      <td>TV Show</td>\n",
       "      <td>Red vs. Blue</td>\n",
       "      <td>13 Seasons</td>\n",
       "    </tr>\n",
       "    <tr>\n",
       "      <th>3114</th>\n",
       "      <td>70286564</td>\n",
       "      <td>TV Show</td>\n",
       "      <td>Maron</td>\n",
       "      <td>4 Seasons</td>\n",
       "    </tr>\n",
       "    <tr>\n",
       "      <th>3115</th>\n",
       "      <td>80116008</td>\n",
       "      <td>Movie</td>\n",
       "      <td>Little Baby Bum: Nursery Rhyme Friends</td>\n",
       "      <td>60 min</td>\n",
       "    </tr>\n",
       "    <tr>\n",
       "      <th>3116</th>\n",
       "      <td>70153404</td>\n",
       "      <td>TV Show</td>\n",
       "      <td>Friends</td>\n",
       "      <td>10 Seasons</td>\n",
       "    </tr>\n",
       "  </tbody>\n",
       "</table>\n",
       "<p>3117 rows × 4 columns</p>\n",
       "</div>"
      ],
      "text/plain": [
       "       show_id     type                                    title    duration\n",
       "0     81145628    Movie  Norm of the North: King Sized Adventure      90 min\n",
       "1     70234439  TV Show                       Transformers Prime    1 Season\n",
       "2     70304990    Movie                              Good People      90 min\n",
       "3     80169755    Movie              Joaquín Reyes: Una y no más      78 min\n",
       "4     70299204    Movie                  Kidnapping Mr. Heineken      95 min\n",
       "...        ...      ...                                      ...         ...\n",
       "3112  80159925  TV Show                                 Kikoriki   2 Seasons\n",
       "3113  80000063  TV Show                             Red vs. Blue  13 Seasons\n",
       "3114  70286564  TV Show                                    Maron   4 Seasons\n",
       "3115  80116008    Movie   Little Baby Bum: Nursery Rhyme Friends      60 min\n",
       "3116  70153404  TV Show                                  Friends  10 Seasons\n",
       "\n",
       "[3117 rows x 4 columns]"
      ]
     },
     "execution_count": 6,
     "metadata": {},
     "output_type": "execute_result"
    }
   ],
   "source": [
    "df21 = pd.read_csv(\"./data/Table_2_1 (1).csv\")\n",
    "df21"
   ]
  },
  {
   "cell_type": "code",
   "execution_count": 7,
   "metadata": {},
   "outputs": [
    {
     "data": {
      "text/html": [
       "<div>\n",
       "<style scoped>\n",
       "    .dataframe tbody tr th:only-of-type {\n",
       "        vertical-align: middle;\n",
       "    }\n",
       "\n",
       "    .dataframe tbody tr th {\n",
       "        vertical-align: top;\n",
       "    }\n",
       "\n",
       "    .dataframe thead th {\n",
       "        text-align: right;\n",
       "    }\n",
       "</style>\n",
       "<table border=\"1\" class=\"dataframe\">\n",
       "  <thead>\n",
       "    <tr style=\"text-align: right;\">\n",
       "      <th></th>\n",
       "      <th>show_id</th>\n",
       "      <th>country</th>\n",
       "      <th>director</th>\n",
       "      <th>cast</th>\n",
       "    </tr>\n",
       "  </thead>\n",
       "  <tbody>\n",
       "    <tr>\n",
       "      <th>0</th>\n",
       "      <td>81145628</td>\n",
       "      <td>United States, India, South Korea, China</td>\n",
       "      <td>Richard Finn, Tim Maltby</td>\n",
       "      <td>Alan Marriott, Andrew Toth, Brian Dobson, Cole...</td>\n",
       "    </tr>\n",
       "    <tr>\n",
       "      <th>1</th>\n",
       "      <td>70234439</td>\n",
       "      <td>United States</td>\n",
       "      <td>NaN</td>\n",
       "      <td>Peter Cullen, Sumalee Montano, Frank Welker, J...</td>\n",
       "    </tr>\n",
       "    <tr>\n",
       "      <th>2</th>\n",
       "      <td>70304990</td>\n",
       "      <td>United States, United Kingdom, Denmark, Sweden</td>\n",
       "      <td>Henrik Ruben Genz</td>\n",
       "      <td>James Franco, Kate Hudson, Tom Wilkinson, Omar...</td>\n",
       "    </tr>\n",
       "    <tr>\n",
       "      <th>3</th>\n",
       "      <td>80169755</td>\n",
       "      <td>NaN</td>\n",
       "      <td>José Miguel Contreras</td>\n",
       "      <td>Joaquín Reyes</td>\n",
       "    </tr>\n",
       "    <tr>\n",
       "      <th>4</th>\n",
       "      <td>70299204</td>\n",
       "      <td>Netherlands, Belgium, United Kingdom, United S...</td>\n",
       "      <td>Daniel Alfredson</td>\n",
       "      <td>Jim Sturgess, Sam Worthington, Ryan Kwanten, A...</td>\n",
       "    </tr>\n",
       "    <tr>\n",
       "      <th>...</th>\n",
       "      <td>...</td>\n",
       "      <td>...</td>\n",
       "      <td>...</td>\n",
       "      <td>...</td>\n",
       "    </tr>\n",
       "    <tr>\n",
       "      <th>3112</th>\n",
       "      <td>80159925</td>\n",
       "      <td>NaN</td>\n",
       "      <td>NaN</td>\n",
       "      <td>Igor Dmitriev</td>\n",
       "    </tr>\n",
       "    <tr>\n",
       "      <th>3113</th>\n",
       "      <td>80000063</td>\n",
       "      <td>United States</td>\n",
       "      <td>NaN</td>\n",
       "      <td>Burnie Burns, Jason Saldaña, Gustavo Sorola, G...</td>\n",
       "    </tr>\n",
       "    <tr>\n",
       "      <th>3114</th>\n",
       "      <td>70286564</td>\n",
       "      <td>United States</td>\n",
       "      <td>NaN</td>\n",
       "      <td>Marc Maron, Judd Hirsch, Josh Brener, Nora Zeh...</td>\n",
       "    </tr>\n",
       "    <tr>\n",
       "      <th>3115</th>\n",
       "      <td>80116008</td>\n",
       "      <td>NaN</td>\n",
       "      <td>NaN</td>\n",
       "      <td>NaN</td>\n",
       "    </tr>\n",
       "    <tr>\n",
       "      <th>3116</th>\n",
       "      <td>70153404</td>\n",
       "      <td>United States</td>\n",
       "      <td>NaN</td>\n",
       "      <td>Jennifer Aniston, Courteney Cox, Lisa Kudrow, ...</td>\n",
       "    </tr>\n",
       "  </tbody>\n",
       "</table>\n",
       "<p>3117 rows × 4 columns</p>\n",
       "</div>"
      ],
      "text/plain": [
       "       show_id                                            country   \n",
       "0     81145628           United States, India, South Korea, China  \\\n",
       "1     70234439                                      United States   \n",
       "2     70304990     United States, United Kingdom, Denmark, Sweden   \n",
       "3     80169755                                                NaN   \n",
       "4     70299204  Netherlands, Belgium, United Kingdom, United S...   \n",
       "...        ...                                                ...   \n",
       "3112  80159925                                                NaN   \n",
       "3113  80000063                                      United States   \n",
       "3114  70286564                                      United States   \n",
       "3115  80116008                                                NaN   \n",
       "3116  70153404                                      United States   \n",
       "\n",
       "                      director   \n",
       "0     Richard Finn, Tim Maltby  \\\n",
       "1                          NaN   \n",
       "2            Henrik Ruben Genz   \n",
       "3        José Miguel Contreras   \n",
       "4             Daniel Alfredson   \n",
       "...                        ...   \n",
       "3112                       NaN   \n",
       "3113                       NaN   \n",
       "3114                       NaN   \n",
       "3115                       NaN   \n",
       "3116                       NaN   \n",
       "\n",
       "                                                   cast  \n",
       "0     Alan Marriott, Andrew Toth, Brian Dobson, Cole...  \n",
       "1     Peter Cullen, Sumalee Montano, Frank Welker, J...  \n",
       "2     James Franco, Kate Hudson, Tom Wilkinson, Omar...  \n",
       "3                                         Joaquín Reyes  \n",
       "4     Jim Sturgess, Sam Worthington, Ryan Kwanten, A...  \n",
       "...                                                 ...  \n",
       "3112                                      Igor Dmitriev  \n",
       "3113  Burnie Burns, Jason Saldaña, Gustavo Sorola, G...  \n",
       "3114  Marc Maron, Judd Hirsch, Josh Brener, Nora Zeh...  \n",
       "3115                                                NaN  \n",
       "3116  Jennifer Aniston, Courteney Cox, Lisa Kudrow, ...  \n",
       "\n",
       "[3117 rows x 4 columns]"
      ]
     },
     "execution_count": 7,
     "metadata": {},
     "output_type": "execute_result"
    }
   ],
   "source": [
    "df22 = pd.read_csv(\"./data/Table_2_2 (1).csv\")\n",
    "df22"
   ]
  },
  {
   "attachments": {},
   "cell_type": "markdown",
   "metadata": {},
   "source": [
    "## Concat"
   ]
  },
  {
   "cell_type": "code",
   "execution_count": 8,
   "metadata": {},
   "outputs": [
    {
     "data": {
      "text/html": [
       "<div>\n",
       "<style scoped>\n",
       "    .dataframe tbody tr th:only-of-type {\n",
       "        vertical-align: middle;\n",
       "    }\n",
       "\n",
       "    .dataframe tbody tr th {\n",
       "        vertical-align: top;\n",
       "    }\n",
       "\n",
       "    .dataframe thead th {\n",
       "        text-align: right;\n",
       "    }\n",
       "</style>\n",
       "<table border=\"1\" class=\"dataframe\">\n",
       "  <thead>\n",
       "    <tr style=\"text-align: right;\">\n",
       "      <th></th>\n",
       "      <th>show_id</th>\n",
       "      <th>type</th>\n",
       "      <th>title</th>\n",
       "      <th>duration</th>\n",
       "    </tr>\n",
       "  </thead>\n",
       "  <tbody>\n",
       "    <tr>\n",
       "      <th>0</th>\n",
       "      <td>80224924</td>\n",
       "      <td>Movie</td>\n",
       "      <td>Expedition China</td>\n",
       "      <td>78 min</td>\n",
       "    </tr>\n",
       "    <tr>\n",
       "      <th>1</th>\n",
       "      <td>80149575</td>\n",
       "      <td>Movie</td>\n",
       "      <td>Caida del Cielo</td>\n",
       "      <td>78 min</td>\n",
       "    </tr>\n",
       "    <tr>\n",
       "      <th>2</th>\n",
       "      <td>80175822</td>\n",
       "      <td>TV Show</td>\n",
       "      <td>Blazing Transfer Students</td>\n",
       "      <td>1 Season</td>\n",
       "    </tr>\n",
       "    <tr>\n",
       "      <th>3</th>\n",
       "      <td>80166467</td>\n",
       "      <td>TV Show</td>\n",
       "      <td>Ellen DeGeneres: Relatable</td>\n",
       "      <td>1 Season</td>\n",
       "    </tr>\n",
       "    <tr>\n",
       "      <th>4</th>\n",
       "      <td>70123116</td>\n",
       "      <td>Movie</td>\n",
       "      <td>Agyaat</td>\n",
       "      <td>97 min</td>\n",
       "    </tr>\n",
       "    <tr>\n",
       "      <th>...</th>\n",
       "      <td>...</td>\n",
       "      <td>...</td>\n",
       "      <td>...</td>\n",
       "      <td>...</td>\n",
       "    </tr>\n",
       "    <tr>\n",
       "      <th>3112</th>\n",
       "      <td>80159925</td>\n",
       "      <td>TV Show</td>\n",
       "      <td>Kikoriki</td>\n",
       "      <td>2 Seasons</td>\n",
       "    </tr>\n",
       "    <tr>\n",
       "      <th>3113</th>\n",
       "      <td>80000063</td>\n",
       "      <td>TV Show</td>\n",
       "      <td>Red vs. Blue</td>\n",
       "      <td>13 Seasons</td>\n",
       "    </tr>\n",
       "    <tr>\n",
       "      <th>3114</th>\n",
       "      <td>70286564</td>\n",
       "      <td>TV Show</td>\n",
       "      <td>Maron</td>\n",
       "      <td>4 Seasons</td>\n",
       "    </tr>\n",
       "    <tr>\n",
       "      <th>3115</th>\n",
       "      <td>80116008</td>\n",
       "      <td>Movie</td>\n",
       "      <td>Little Baby Bum: Nursery Rhyme Friends</td>\n",
       "      <td>60 min</td>\n",
       "    </tr>\n",
       "    <tr>\n",
       "      <th>3116</th>\n",
       "      <td>70153404</td>\n",
       "      <td>TV Show</td>\n",
       "      <td>Friends</td>\n",
       "      <td>10 Seasons</td>\n",
       "    </tr>\n",
       "  </tbody>\n",
       "</table>\n",
       "<p>6234 rows × 4 columns</p>\n",
       "</div>"
      ],
      "text/plain": [
       "       show_id     type                                   title    duration\n",
       "0     80224924    Movie                        Expedition China      78 min\n",
       "1     80149575    Movie                         Caida del Cielo      78 min\n",
       "2     80175822  TV Show               Blazing Transfer Students    1 Season\n",
       "3     80166467  TV Show              Ellen DeGeneres: Relatable    1 Season\n",
       "4     70123116    Movie                                  Agyaat      97 min\n",
       "...        ...      ...                                     ...         ...\n",
       "3112  80159925  TV Show                                Kikoriki   2 Seasons\n",
       "3113  80000063  TV Show                            Red vs. Blue  13 Seasons\n",
       "3114  70286564  TV Show                                   Maron   4 Seasons\n",
       "3115  80116008    Movie  Little Baby Bum: Nursery Rhyme Friends      60 min\n",
       "3116  70153404  TV Show                                 Friends  10 Seasons\n",
       "\n",
       "[6234 rows x 4 columns]"
      ]
     },
     "execution_count": 8,
     "metadata": {},
     "output_type": "execute_result"
    }
   ],
   "source": [
    "df1 = pd.concat([df11,df21], axis=0)\n",
    "df1"
   ]
  },
  {
   "cell_type": "code",
   "execution_count": 9,
   "metadata": {},
   "outputs": [
    {
     "data": {
      "text/html": [
       "<div>\n",
       "<style scoped>\n",
       "    .dataframe tbody tr th:only-of-type {\n",
       "        vertical-align: middle;\n",
       "    }\n",
       "\n",
       "    .dataframe tbody tr th {\n",
       "        vertical-align: top;\n",
       "    }\n",
       "\n",
       "    .dataframe thead th {\n",
       "        text-align: right;\n",
       "    }\n",
       "</style>\n",
       "<table border=\"1\" class=\"dataframe\">\n",
       "  <thead>\n",
       "    <tr style=\"text-align: right;\">\n",
       "      <th></th>\n",
       "      <th>show_id</th>\n",
       "      <th>country</th>\n",
       "      <th>director</th>\n",
       "      <th>cast</th>\n",
       "    </tr>\n",
       "  </thead>\n",
       "  <tbody>\n",
       "    <tr>\n",
       "      <th>0</th>\n",
       "      <td>80224924</td>\n",
       "      <td>NaN</td>\n",
       "      <td>Ben Wallis</td>\n",
       "      <td>Maggie Q</td>\n",
       "    </tr>\n",
       "    <tr>\n",
       "      <th>1</th>\n",
       "      <td>80149575</td>\n",
       "      <td>Argentina</td>\n",
       "      <td>Néstor Sánchez Sotelo</td>\n",
       "      <td>Muriel Santa Ana, Peto Menahem, Héctor Díaz, S...</td>\n",
       "    </tr>\n",
       "    <tr>\n",
       "      <th>2</th>\n",
       "      <td>80175822</td>\n",
       "      <td>Japan</td>\n",
       "      <td>NaN</td>\n",
       "      <td>Daiki Shigeoka, Akito Kiriyama, Junta Nakama, ...</td>\n",
       "    </tr>\n",
       "    <tr>\n",
       "      <th>3</th>\n",
       "      <td>80166467</td>\n",
       "      <td>United States</td>\n",
       "      <td>Joel Gallen, Tig Notaro</td>\n",
       "      <td>Ellen DeGeneres</td>\n",
       "    </tr>\n",
       "    <tr>\n",
       "      <th>4</th>\n",
       "      <td>70123116</td>\n",
       "      <td>India</td>\n",
       "      <td>Ram Gopal Varma</td>\n",
       "      <td>Adesh Bhardwaj, Rasika Dugal, Joy Fernandes, R...</td>\n",
       "    </tr>\n",
       "    <tr>\n",
       "      <th>...</th>\n",
       "      <td>...</td>\n",
       "      <td>...</td>\n",
       "      <td>...</td>\n",
       "      <td>...</td>\n",
       "    </tr>\n",
       "    <tr>\n",
       "      <th>3112</th>\n",
       "      <td>80159925</td>\n",
       "      <td>NaN</td>\n",
       "      <td>NaN</td>\n",
       "      <td>Igor Dmitriev</td>\n",
       "    </tr>\n",
       "    <tr>\n",
       "      <th>3113</th>\n",
       "      <td>80000063</td>\n",
       "      <td>United States</td>\n",
       "      <td>NaN</td>\n",
       "      <td>Burnie Burns, Jason Saldaña, Gustavo Sorola, G...</td>\n",
       "    </tr>\n",
       "    <tr>\n",
       "      <th>3114</th>\n",
       "      <td>70286564</td>\n",
       "      <td>United States</td>\n",
       "      <td>NaN</td>\n",
       "      <td>Marc Maron, Judd Hirsch, Josh Brener, Nora Zeh...</td>\n",
       "    </tr>\n",
       "    <tr>\n",
       "      <th>3115</th>\n",
       "      <td>80116008</td>\n",
       "      <td>NaN</td>\n",
       "      <td>NaN</td>\n",
       "      <td>NaN</td>\n",
       "    </tr>\n",
       "    <tr>\n",
       "      <th>3116</th>\n",
       "      <td>70153404</td>\n",
       "      <td>United States</td>\n",
       "      <td>NaN</td>\n",
       "      <td>Jennifer Aniston, Courteney Cox, Lisa Kudrow, ...</td>\n",
       "    </tr>\n",
       "  </tbody>\n",
       "</table>\n",
       "<p>6234 rows × 4 columns</p>\n",
       "</div>"
      ],
      "text/plain": [
       "       show_id        country                 director   \n",
       "0     80224924            NaN               Ben Wallis  \\\n",
       "1     80149575      Argentina    Néstor Sánchez Sotelo   \n",
       "2     80175822          Japan                      NaN   \n",
       "3     80166467  United States  Joel Gallen, Tig Notaro   \n",
       "4     70123116          India          Ram Gopal Varma   \n",
       "...        ...            ...                      ...   \n",
       "3112  80159925            NaN                      NaN   \n",
       "3113  80000063  United States                      NaN   \n",
       "3114  70286564  United States                      NaN   \n",
       "3115  80116008            NaN                      NaN   \n",
       "3116  70153404  United States                      NaN   \n",
       "\n",
       "                                                   cast  \n",
       "0                                              Maggie Q  \n",
       "1     Muriel Santa Ana, Peto Menahem, Héctor Díaz, S...  \n",
       "2     Daiki Shigeoka, Akito Kiriyama, Junta Nakama, ...  \n",
       "3                                       Ellen DeGeneres  \n",
       "4     Adesh Bhardwaj, Rasika Dugal, Joy Fernandes, R...  \n",
       "...                                                 ...  \n",
       "3112                                      Igor Dmitriev  \n",
       "3113  Burnie Burns, Jason Saldaña, Gustavo Sorola, G...  \n",
       "3114  Marc Maron, Judd Hirsch, Josh Brener, Nora Zeh...  \n",
       "3115                                                NaN  \n",
       "3116  Jennifer Aniston, Courteney Cox, Lisa Kudrow, ...  \n",
       "\n",
       "[6234 rows x 4 columns]"
      ]
     },
     "execution_count": 9,
     "metadata": {},
     "output_type": "execute_result"
    }
   ],
   "source": [
    "df2 = pd.concat([df12,df22], axis=0)\n",
    "df2"
   ]
  },
  {
   "attachments": {},
   "cell_type": "markdown",
   "metadata": {},
   "source": [
    "# Merge"
   ]
  },
  {
   "cell_type": "code",
   "execution_count": 10,
   "metadata": {},
   "outputs": [
    {
     "data": {
      "text/html": [
       "<div>\n",
       "<style scoped>\n",
       "    .dataframe tbody tr th:only-of-type {\n",
       "        vertical-align: middle;\n",
       "    }\n",
       "\n",
       "    .dataframe tbody tr th {\n",
       "        vertical-align: top;\n",
       "    }\n",
       "\n",
       "    .dataframe thead th {\n",
       "        text-align: right;\n",
       "    }\n",
       "</style>\n",
       "<table border=\"1\" class=\"dataframe\">\n",
       "  <thead>\n",
       "    <tr style=\"text-align: right;\">\n",
       "      <th></th>\n",
       "      <th>show_id</th>\n",
       "      <th>type</th>\n",
       "      <th>title</th>\n",
       "      <th>duration</th>\n",
       "      <th>country</th>\n",
       "      <th>director</th>\n",
       "      <th>cast</th>\n",
       "    </tr>\n",
       "  </thead>\n",
       "  <tbody>\n",
       "    <tr>\n",
       "      <th>0</th>\n",
       "      <td>80224924</td>\n",
       "      <td>Movie</td>\n",
       "      <td>Expedition China</td>\n",
       "      <td>78 min</td>\n",
       "      <td>NaN</td>\n",
       "      <td>Ben Wallis</td>\n",
       "      <td>Maggie Q</td>\n",
       "    </tr>\n",
       "    <tr>\n",
       "      <th>1</th>\n",
       "      <td>80149575</td>\n",
       "      <td>Movie</td>\n",
       "      <td>Caida del Cielo</td>\n",
       "      <td>78 min</td>\n",
       "      <td>Argentina</td>\n",
       "      <td>Néstor Sánchez Sotelo</td>\n",
       "      <td>Muriel Santa Ana, Peto Menahem, Héctor Díaz, S...</td>\n",
       "    </tr>\n",
       "    <tr>\n",
       "      <th>2</th>\n",
       "      <td>80175822</td>\n",
       "      <td>TV Show</td>\n",
       "      <td>Blazing Transfer Students</td>\n",
       "      <td>1 Season</td>\n",
       "      <td>Japan</td>\n",
       "      <td>NaN</td>\n",
       "      <td>Daiki Shigeoka, Akito Kiriyama, Junta Nakama, ...</td>\n",
       "    </tr>\n",
       "    <tr>\n",
       "      <th>3</th>\n",
       "      <td>80166467</td>\n",
       "      <td>TV Show</td>\n",
       "      <td>Ellen DeGeneres: Relatable</td>\n",
       "      <td>1 Season</td>\n",
       "      <td>United States</td>\n",
       "      <td>Joel Gallen, Tig Notaro</td>\n",
       "      <td>Ellen DeGeneres</td>\n",
       "    </tr>\n",
       "    <tr>\n",
       "      <th>4</th>\n",
       "      <td>70123116</td>\n",
       "      <td>Movie</td>\n",
       "      <td>Agyaat</td>\n",
       "      <td>97 min</td>\n",
       "      <td>India</td>\n",
       "      <td>Ram Gopal Varma</td>\n",
       "      <td>Adesh Bhardwaj, Rasika Dugal, Joy Fernandes, R...</td>\n",
       "    </tr>\n",
       "    <tr>\n",
       "      <th>...</th>\n",
       "      <td>...</td>\n",
       "      <td>...</td>\n",
       "      <td>...</td>\n",
       "      <td>...</td>\n",
       "      <td>...</td>\n",
       "      <td>...</td>\n",
       "      <td>...</td>\n",
       "    </tr>\n",
       "    <tr>\n",
       "      <th>6229</th>\n",
       "      <td>80159925</td>\n",
       "      <td>TV Show</td>\n",
       "      <td>Kikoriki</td>\n",
       "      <td>2 Seasons</td>\n",
       "      <td>NaN</td>\n",
       "      <td>NaN</td>\n",
       "      <td>Igor Dmitriev</td>\n",
       "    </tr>\n",
       "    <tr>\n",
       "      <th>6230</th>\n",
       "      <td>80000063</td>\n",
       "      <td>TV Show</td>\n",
       "      <td>Red vs. Blue</td>\n",
       "      <td>13 Seasons</td>\n",
       "      <td>United States</td>\n",
       "      <td>NaN</td>\n",
       "      <td>Burnie Burns, Jason Saldaña, Gustavo Sorola, G...</td>\n",
       "    </tr>\n",
       "    <tr>\n",
       "      <th>6231</th>\n",
       "      <td>70286564</td>\n",
       "      <td>TV Show</td>\n",
       "      <td>Maron</td>\n",
       "      <td>4 Seasons</td>\n",
       "      <td>United States</td>\n",
       "      <td>NaN</td>\n",
       "      <td>Marc Maron, Judd Hirsch, Josh Brener, Nora Zeh...</td>\n",
       "    </tr>\n",
       "    <tr>\n",
       "      <th>6232</th>\n",
       "      <td>80116008</td>\n",
       "      <td>Movie</td>\n",
       "      <td>Little Baby Bum: Nursery Rhyme Friends</td>\n",
       "      <td>60 min</td>\n",
       "      <td>NaN</td>\n",
       "      <td>NaN</td>\n",
       "      <td>NaN</td>\n",
       "    </tr>\n",
       "    <tr>\n",
       "      <th>6233</th>\n",
       "      <td>70153404</td>\n",
       "      <td>TV Show</td>\n",
       "      <td>Friends</td>\n",
       "      <td>10 Seasons</td>\n",
       "      <td>United States</td>\n",
       "      <td>NaN</td>\n",
       "      <td>Jennifer Aniston, Courteney Cox, Lisa Kudrow, ...</td>\n",
       "    </tr>\n",
       "  </tbody>\n",
       "</table>\n",
       "<p>6234 rows × 7 columns</p>\n",
       "</div>"
      ],
      "text/plain": [
       "       show_id     type                                   title    duration   \n",
       "0     80224924    Movie                        Expedition China      78 min  \\\n",
       "1     80149575    Movie                         Caida del Cielo      78 min   \n",
       "2     80175822  TV Show               Blazing Transfer Students    1 Season   \n",
       "3     80166467  TV Show              Ellen DeGeneres: Relatable    1 Season   \n",
       "4     70123116    Movie                                  Agyaat      97 min   \n",
       "...        ...      ...                                     ...         ...   \n",
       "6229  80159925  TV Show                                Kikoriki   2 Seasons   \n",
       "6230  80000063  TV Show                            Red vs. Blue  13 Seasons   \n",
       "6231  70286564  TV Show                                   Maron   4 Seasons   \n",
       "6232  80116008    Movie  Little Baby Bum: Nursery Rhyme Friends      60 min   \n",
       "6233  70153404  TV Show                                 Friends  10 Seasons   \n",
       "\n",
       "            country                 director   \n",
       "0               NaN               Ben Wallis  \\\n",
       "1         Argentina    Néstor Sánchez Sotelo   \n",
       "2             Japan                      NaN   \n",
       "3     United States  Joel Gallen, Tig Notaro   \n",
       "4             India          Ram Gopal Varma   \n",
       "...             ...                      ...   \n",
       "6229            NaN                      NaN   \n",
       "6230  United States                      NaN   \n",
       "6231  United States                      NaN   \n",
       "6232            NaN                      NaN   \n",
       "6233  United States                      NaN   \n",
       "\n",
       "                                                   cast  \n",
       "0                                              Maggie Q  \n",
       "1     Muriel Santa Ana, Peto Menahem, Héctor Díaz, S...  \n",
       "2     Daiki Shigeoka, Akito Kiriyama, Junta Nakama, ...  \n",
       "3                                       Ellen DeGeneres  \n",
       "4     Adesh Bhardwaj, Rasika Dugal, Joy Fernandes, R...  \n",
       "...                                                 ...  \n",
       "6229                                      Igor Dmitriev  \n",
       "6230  Burnie Burns, Jason Saldaña, Gustavo Sorola, G...  \n",
       "6231  Marc Maron, Judd Hirsch, Josh Brener, Nora Zeh...  \n",
       "6232                                                NaN  \n",
       "6233  Jennifer Aniston, Courteney Cox, Lisa Kudrow, ...  \n",
       "\n",
       "[6234 rows x 7 columns]"
      ]
     },
     "execution_count": 10,
     "metadata": {},
     "output_type": "execute_result"
    }
   ],
   "source": [
    "# use outer join to also include (check for) non-matching show_ids\n",
    "df = pd.merge(df1, df2, how='outer', on=\"show_id\") \n",
    "df"
   ]
  },
  {
   "cell_type": "code",
   "execution_count": 11,
   "metadata": {},
   "outputs": [
    {
     "data": {
      "text/plain": [
       "False"
      ]
     },
     "execution_count": 11,
     "metadata": {},
     "output_type": "execute_result"
    }
   ],
   "source": [
    "# check for non-matching ids\n",
    "df.show_id.isnull().values.any()\n"
   ]
  },
  {
   "attachments": {},
   "cell_type": "markdown",
   "metadata": {},
   "source": [
    "All ids matched"
   ]
  },
  {
   "cell_type": "code",
   "execution_count": 12,
   "metadata": {},
   "outputs": [
    {
     "data": {
      "text/plain": [
       "False"
      ]
     },
     "execution_count": 12,
     "metadata": {},
     "output_type": "execute_result"
    }
   ],
   "source": [
    "# check for duplicate ids\n",
    "df.show_id.duplicated().any()\n"
   ]
  },
  {
   "cell_type": "markdown",
   "metadata": {},
   "source": [
    "All ids are unique"
   ]
  },
  {
   "attachments": {},
   "cell_type": "markdown",
   "metadata": {},
   "source": [
    "# Question 2"
   ]
  },
  {
   "cell_type": "code",
   "execution_count": 13,
   "metadata": {},
   "outputs": [
    {
     "data": {
      "text/plain": [
       "6234"
      ]
     },
     "execution_count": 13,
     "metadata": {},
     "output_type": "execute_result"
    }
   ],
   "source": [
    "len(df) "
   ]
  },
  {
   "attachments": {},
   "cell_type": "markdown",
   "metadata": {},
   "source": [
    "We have 6234 records"
   ]
  },
  {
   "attachments": {},
   "cell_type": "markdown",
   "metadata": {},
   "source": [
    "# Question 3"
   ]
  },
  {
   "cell_type": "code",
   "execution_count": 14,
   "metadata": {},
   "outputs": [
    {
     "data": {
      "text/plain": [
       "type\n",
       "Movie      4265\n",
       "TV Show    1969\n",
       "Name: count, dtype: int64"
      ]
     },
     "execution_count": 14,
     "metadata": {},
     "output_type": "execute_result"
    }
   ],
   "source": [
    "df.type.value_counts()"
   ]
  },
  {
   "attachments": {},
   "cell_type": "markdown",
   "metadata": {},
   "source": [
    "There are 4265 movies"
   ]
  },
  {
   "cell_type": "code",
   "execution_count": 15,
   "metadata": {},
   "outputs": [
    {
     "data": {
      "text/plain": [
       "1482"
      ]
     },
     "execution_count": 15,
     "metadata": {},
     "output_type": "execute_result"
    }
   ],
   "source": [
    "len(df[(df.type==\"Movie\") & (df.country==\"United States\")])"
   ]
  },
  {
   "cell_type": "markdown",
   "metadata": {},
   "source": [
    "There are 1482 movies from the US"
   ]
  },
  {
   "attachments": {},
   "cell_type": "markdown",
   "metadata": {},
   "source": [
    "# Question 4"
   ]
  },
  {
   "cell_type": "code",
   "execution_count": 16,
   "metadata": {},
   "outputs": [
    {
     "data": {
      "text/html": [
       "<div>\n",
       "<style scoped>\n",
       "    .dataframe tbody tr th:only-of-type {\n",
       "        vertical-align: middle;\n",
       "    }\n",
       "\n",
       "    .dataframe tbody tr th {\n",
       "        vertical-align: top;\n",
       "    }\n",
       "\n",
       "    .dataframe thead th {\n",
       "        text-align: right;\n",
       "    }\n",
       "</style>\n",
       "<table border=\"1\" class=\"dataframe\">\n",
       "  <thead>\n",
       "    <tr style=\"text-align: right;\">\n",
       "      <th></th>\n",
       "      <th>country</th>\n",
       "      <th>count</th>\n",
       "    </tr>\n",
       "  </thead>\n",
       "  <tbody>\n",
       "    <tr>\n",
       "      <th>0</th>\n",
       "      <td>United States</td>\n",
       "      <td>2032</td>\n",
       "    </tr>\n",
       "    <tr>\n",
       "      <th>1</th>\n",
       "      <td>India</td>\n",
       "      <td>777</td>\n",
       "    </tr>\n",
       "    <tr>\n",
       "      <th>2</th>\n",
       "      <td>United Kingdom</td>\n",
       "      <td>348</td>\n",
       "    </tr>\n",
       "    <tr>\n",
       "      <th>3</th>\n",
       "      <td>Japan</td>\n",
       "      <td>176</td>\n",
       "    </tr>\n",
       "    <tr>\n",
       "      <th>4</th>\n",
       "      <td>Canada</td>\n",
       "      <td>141</td>\n",
       "    </tr>\n",
       "    <tr>\n",
       "      <th>5</th>\n",
       "      <td>South Korea</td>\n",
       "      <td>136</td>\n",
       "    </tr>\n",
       "    <tr>\n",
       "      <th>6</th>\n",
       "      <td>Spain</td>\n",
       "      <td>117</td>\n",
       "    </tr>\n",
       "    <tr>\n",
       "      <th>7</th>\n",
       "      <td>France</td>\n",
       "      <td>90</td>\n",
       "    </tr>\n",
       "    <tr>\n",
       "      <th>8</th>\n",
       "      <td>Mexico</td>\n",
       "      <td>83</td>\n",
       "    </tr>\n",
       "    <tr>\n",
       "      <th>9</th>\n",
       "      <td>Turkey</td>\n",
       "      <td>79</td>\n",
       "    </tr>\n",
       "  </tbody>\n",
       "</table>\n",
       "</div>"
      ],
      "text/plain": [
       "          country  count\n",
       "0   United States   2032\n",
       "1           India    777\n",
       "2  United Kingdom    348\n",
       "3           Japan    176\n",
       "4          Canada    141\n",
       "5     South Korea    136\n",
       "6           Spain    117\n",
       "7          France     90\n",
       "8          Mexico     83\n",
       "9          Turkey     79"
      ]
     },
     "execution_count": 16,
     "metadata": {},
     "output_type": "execute_result"
    }
   ],
   "source": [
    "counts = df.country.groupby(df.country).count().sort_values(ascending=False)[:10].rename(\"count\")\n",
    "counts = pd.DataFrame(counts).reset_index()\n",
    "counts"
   ]
  },
  {
   "cell_type": "code",
   "execution_count": 17,
   "metadata": {},
   "outputs": [
    {
     "data": {
      "image/png": "[encoded data removed]",
      "text/plain": [
       "<Figure size 600x400 with 1 Axes>"
      ]
     },
     "metadata": {},
     "output_type": "display_data"
    }
   ],
   "source": [
    "fig, ax = plt.subplots(figsize=(6, 4))\n",
    "sns.barplot(counts, x=\"country\", y=\"count\")\n",
    "ax.set_xticklabels(ax.get_xticklabels(), rotation=90)\n",
    "plt.show()"
   ]
  },
  {
   "attachments": {},
   "cell_type": "markdown",
   "metadata": {},
   "source": [
    "# Question 5"
   ]
  },
  {
   "cell_type": "code",
   "execution_count": 18,
   "metadata": {},
   "outputs": [
    {
     "data": {
      "text/plain": [
       "array([ 9,  2, 10, ...,  3,  5,  0])"
      ]
     },
     "execution_count": 18,
     "metadata": {},
     "output_type": "execute_result"
    }
   ],
   "source": [
    "nominations = np.random.randint(low=0, high=11, size=(len(df)))\n",
    "nominations"
   ]
  },
  {
   "cell_type": "code",
   "execution_count": 19,
   "metadata": {},
   "outputs": [
    {
     "data": {
      "text/plain": [
       "array([2, 1, 2, ..., 2, 1, 0])"
      ]
     },
     "execution_count": 19,
     "metadata": {},
     "output_type": "execute_result"
    }
   ],
   "source": [
    "wins = np.zeros(len(nominations), dtype=int)\n",
    "for i, val in enumerate(nominations):\n",
    "    wins[i] = np.random.randint(0, val+1)\n",
    "wins"
   ]
  },
  {
   "cell_type": "code",
   "execution_count": 20,
   "metadata": {},
   "outputs": [
    {
     "data": {
      "text/plain": [
       "True"
      ]
     },
     "execution_count": 20,
     "metadata": {},
     "output_type": "execute_result"
    }
   ],
   "source": [
    "# make sure nominations are always greater or equal to wins\n",
    "all(nominations>=wins) "
   ]
  },
  {
   "cell_type": "code",
   "execution_count": 21,
   "metadata": {},
   "outputs": [
    {
     "data": {
      "text/html": [
       "<div>\n",
       "<style scoped>\n",
       "    .dataframe tbody tr th:only-of-type {\n",
       "        vertical-align: middle;\n",
       "    }\n",
       "\n",
       "    .dataframe tbody tr th {\n",
       "        vertical-align: top;\n",
       "    }\n",
       "\n",
       "    .dataframe thead th {\n",
       "        text-align: right;\n",
       "    }\n",
       "</style>\n",
       "<table border=\"1\" class=\"dataframe\">\n",
       "  <thead>\n",
       "    <tr style=\"text-align: right;\">\n",
       "      <th></th>\n",
       "      <th>show_id</th>\n",
       "      <th>type</th>\n",
       "      <th>title</th>\n",
       "      <th>duration</th>\n",
       "      <th>country</th>\n",
       "      <th>director</th>\n",
       "      <th>cast</th>\n",
       "      <th>nominations</th>\n",
       "      <th>wins</th>\n",
       "    </tr>\n",
       "  </thead>\n",
       "  <tbody>\n",
       "    <tr>\n",
       "      <th>0</th>\n",
       "      <td>80224924</td>\n",
       "      <td>Movie</td>\n",
       "      <td>Expedition China</td>\n",
       "      <td>78 min</td>\n",
       "      <td>NaN</td>\n",
       "      <td>Ben Wallis</td>\n",
       "      <td>Maggie Q</td>\n",
       "      <td>9</td>\n",
       "      <td>2</td>\n",
       "    </tr>\n",
       "    <tr>\n",
       "      <th>1</th>\n",
       "      <td>80149575</td>\n",
       "      <td>Movie</td>\n",
       "      <td>Caida del Cielo</td>\n",
       "      <td>78 min</td>\n",
       "      <td>Argentina</td>\n",
       "      <td>Néstor Sánchez Sotelo</td>\n",
       "      <td>Muriel Santa Ana, Peto Menahem, Héctor Díaz, S...</td>\n",
       "      <td>2</td>\n",
       "      <td>1</td>\n",
       "    </tr>\n",
       "    <tr>\n",
       "      <th>2</th>\n",
       "      <td>80175822</td>\n",
       "      <td>TV Show</td>\n",
       "      <td>Blazing Transfer Students</td>\n",
       "      <td>1 Season</td>\n",
       "      <td>Japan</td>\n",
       "      <td>NaN</td>\n",
       "      <td>Daiki Shigeoka, Akito Kiriyama, Junta Nakama, ...</td>\n",
       "      <td>10</td>\n",
       "      <td>2</td>\n",
       "    </tr>\n",
       "    <tr>\n",
       "      <th>3</th>\n",
       "      <td>80166467</td>\n",
       "      <td>TV Show</td>\n",
       "      <td>Ellen DeGeneres: Relatable</td>\n",
       "      <td>1 Season</td>\n",
       "      <td>United States</td>\n",
       "      <td>Joel Gallen, Tig Notaro</td>\n",
       "      <td>Ellen DeGeneres</td>\n",
       "      <td>0</td>\n",
       "      <td>0</td>\n",
       "    </tr>\n",
       "    <tr>\n",
       "      <th>4</th>\n",
       "      <td>70123116</td>\n",
       "      <td>Movie</td>\n",
       "      <td>Agyaat</td>\n",
       "      <td>97 min</td>\n",
       "      <td>India</td>\n",
       "      <td>Ram Gopal Varma</td>\n",
       "      <td>Adesh Bhardwaj, Rasika Dugal, Joy Fernandes, R...</td>\n",
       "      <td>2</td>\n",
       "      <td>0</td>\n",
       "    </tr>\n",
       "    <tr>\n",
       "      <th>...</th>\n",
       "      <td>...</td>\n",
       "      <td>...</td>\n",
       "      <td>...</td>\n",
       "      <td>...</td>\n",
       "      <td>...</td>\n",
       "      <td>...</td>\n",
       "      <td>...</td>\n",
       "      <td>...</td>\n",
       "      <td>...</td>\n",
       "    </tr>\n",
       "    <tr>\n",
       "      <th>6229</th>\n",
       "      <td>80159925</td>\n",
       "      <td>TV Show</td>\n",
       "      <td>Kikoriki</td>\n",
       "      <td>2 Seasons</td>\n",
       "      <td>NaN</td>\n",
       "      <td>NaN</td>\n",
       "      <td>Igor Dmitriev</td>\n",
       "      <td>4</td>\n",
       "      <td>4</td>\n",
       "    </tr>\n",
       "    <tr>\n",
       "      <th>6230</th>\n",
       "      <td>80000063</td>\n",
       "      <td>TV Show</td>\n",
       "      <td>Red vs. Blue</td>\n",
       "      <td>13 Seasons</td>\n",
       "      <td>United States</td>\n",
       "      <td>NaN</td>\n",
       "      <td>Burnie Burns, Jason Saldaña, Gustavo Sorola, G...</td>\n",
       "      <td>2</td>\n",
       "      <td>0</td>\n",
       "    </tr>\n",
       "    <tr>\n",
       "      <th>6231</th>\n",
       "      <td>70286564</td>\n",
       "      <td>TV Show</td>\n",
       "      <td>Maron</td>\n",
       "      <td>4 Seasons</td>\n",
       "      <td>United States</td>\n",
       "      <td>NaN</td>\n",
       "      <td>Marc Maron, Judd Hirsch, Josh Brener, Nora Zeh...</td>\n",
       "      <td>3</td>\n",
       "      <td>2</td>\n",
       "    </tr>\n",
       "    <tr>\n",
       "      <th>6232</th>\n",
       "      <td>80116008</td>\n",
       "      <td>Movie</td>\n",
       "      <td>Little Baby Bum: Nursery Rhyme Friends</td>\n",
       "      <td>60 min</td>\n",
       "      <td>NaN</td>\n",
       "      <td>NaN</td>\n",
       "      <td>NaN</td>\n",
       "      <td>5</td>\n",
       "      <td>1</td>\n",
       "    </tr>\n",
       "    <tr>\n",
       "      <th>6233</th>\n",
       "      <td>70153404</td>\n",
       "      <td>TV Show</td>\n",
       "      <td>Friends</td>\n",
       "      <td>10 Seasons</td>\n",
       "      <td>United States</td>\n",
       "      <td>NaN</td>\n",
       "      <td>Jennifer Aniston, Courteney Cox, Lisa Kudrow, ...</td>\n",
       "      <td>0</td>\n",
       "      <td>0</td>\n",
       "    </tr>\n",
       "  </tbody>\n",
       "</table>\n",
       "<p>6234 rows × 9 columns</p>\n",
       "</div>"
      ],
      "text/plain": [
       "       show_id     type                                   title    duration   \n",
       "0     80224924    Movie                        Expedition China      78 min  \\\n",
       "1     80149575    Movie                         Caida del Cielo      78 min   \n",
       "2     80175822  TV Show               Blazing Transfer Students    1 Season   \n",
       "3     80166467  TV Show              Ellen DeGeneres: Relatable    1 Season   \n",
       "4     70123116    Movie                                  Agyaat      97 min   \n",
       "...        ...      ...                                     ...         ...   \n",
       "6229  80159925  TV Show                                Kikoriki   2 Seasons   \n",
       "6230  80000063  TV Show                            Red vs. Blue  13 Seasons   \n",
       "6231  70286564  TV Show                                   Maron   4 Seasons   \n",
       "6232  80116008    Movie  Little Baby Bum: Nursery Rhyme Friends      60 min   \n",
       "6233  70153404  TV Show                                 Friends  10 Seasons   \n",
       "\n",
       "            country                 director   \n",
       "0               NaN               Ben Wallis  \\\n",
       "1         Argentina    Néstor Sánchez Sotelo   \n",
       "2             Japan                      NaN   \n",
       "3     United States  Joel Gallen, Tig Notaro   \n",
       "4             India          Ram Gopal Varma   \n",
       "...             ...                      ...   \n",
       "6229            NaN                      NaN   \n",
       "6230  United States                      NaN   \n",
       "6231  United States                      NaN   \n",
       "6232            NaN                      NaN   \n",
       "6233  United States                      NaN   \n",
       "\n",
       "                                                   cast  nominations  wins  \n",
       "0                                              Maggie Q            9     2  \n",
       "1     Muriel Santa Ana, Peto Menahem, Héctor Díaz, S...            2     1  \n",
       "2     Daiki Shigeoka, Akito Kiriyama, Junta Nakama, ...           10     2  \n",
       "3                                       Ellen DeGeneres            0     0  \n",
       "4     Adesh Bhardwaj, Rasika Dugal, Joy Fernandes, R...            2     0  \n",
       "...                                                 ...          ...   ...  \n",
       "6229                                      Igor Dmitriev            4     4  \n",
       "6230  Burnie Burns, Jason Saldaña, Gustavo Sorola, G...            2     0  \n",
       "6231  Marc Maron, Judd Hirsch, Josh Brener, Nora Zeh...            3     2  \n",
       "6232                                                NaN            5     1  \n",
       "6233  Jennifer Aniston, Courteney Cox, Lisa Kudrow, ...            0     0  \n",
       "\n",
       "[6234 rows x 9 columns]"
      ]
     },
     "execution_count": 21,
     "metadata": {},
     "output_type": "execute_result"
    }
   ],
   "source": [
    "df[\"nominations\"]=nominations\n",
    "df[\"wins\"]=wins\n",
    "df"
   ]
  },
  {
   "attachments": {},
   "cell_type": "markdown",
   "metadata": {},
   "source": [
    "# Question 6"
   ]
  },
  {
   "cell_type": "code",
   "execution_count": 22,
   "metadata": {},
   "outputs": [
    {
     "data": {
      "image/png": "[encoded data removed]",
      "text/plain": [
       "<Figure size 600x400 with 1 Axes>"
      ]
     },
     "metadata": {},
     "output_type": "display_data"
    }
   ],
   "source": [
    "fig, ax = plt.subplots(figsize=(6, 4))\n",
    "sns.histplot(df.nominations, bins=11) # nominations take 11 different values\n",
    "ax.set_xticks(range(0,11))\n",
    "plt.show()"
   ]
  },
  {
   "attachments": {},
   "cell_type": "markdown",
   "metadata": {},
   "source": [
    "The distribution closely resembles the uniform distribution, as expected"
   ]
  },
  {
   "cell_type": "code",
   "execution_count": 23,
   "metadata": {},
   "outputs": [
    {
     "data": {
      "image/png": "[encoded data removed]",
      "text/plain": [
       "<Figure size 600x400 with 1 Axes>"
      ]
     },
     "metadata": {},
     "output_type": "display_data"
    }
   ],
   "source": [
    "fig, ax = plt.subplots(figsize=(6, 4))\n",
    "sns.histplot(df.wins, bins=11)\n",
    "ax.set_xticks(range(0,11))\n",
    "plt.show()"
   ]
  },
  {
   "attachments": {},
   "cell_type": "markdown",
   "metadata": {},
   "source": [
    "the constraint we impose (wins < nominations) alters the distribution shape"
   ]
  },
  {
   "cell_type": "code",
   "execution_count": 31,
   "metadata": {},
   "outputs": [
    {
     "data": {
      "image/png": "[encoded data removed]",
      "text/plain": [
       "<Figure size 600x600 with 1 Axes>"
      ]
     },
     "metadata": {},
     "output_type": "display_data"
    }
   ],
   "source": [
    "fig, ax = plt.subplots(figsize=(6, 6))\n",
    "sns.scatterplot(data=df, x=\"nominations\", y=\"wins\")\n",
    "plt.show()\n"
   ]
  },
  {
   "attachments": {},
   "cell_type": "markdown",
   "metadata": {},
   "source": [
    "# Question 7"
   ]
  },
  {
   "cell_type": "code",
   "execution_count": 25,
   "metadata": {},
   "outputs": [
    {
     "data": {
      "text/plain": [
       "0        78 min\n",
       "1        78 min\n",
       "4        97 min\n",
       "6       117 min\n",
       "7       124 min\n",
       "         ...   \n",
       "5907     93 min\n",
       "5910    134 min\n",
       "5911    102 min\n",
       "5912     88 min\n",
       "6232     60 min\n",
       "Name: duration, Length: 4265, dtype: object"
      ]
     },
     "execution_count": 25,
     "metadata": {},
     "output_type": "execute_result"
    }
   ],
   "source": [
    "df[df.type==\"Movie\"].duration"
   ]
  },
  {
   "cell_type": "code",
   "execution_count": 26,
   "metadata": {},
   "outputs": [
    {
     "data": {
      "text/plain": [
       "0        78\n",
       "1        78\n",
       "4        97\n",
       "6       117\n",
       "7       124\n",
       "       ... \n",
       "5907     93\n",
       "5910    134\n",
       "5911    102\n",
       "5912     88\n",
       "6232     60\n",
       "Name: duration, Length: 4265, dtype: int64"
      ]
     },
     "execution_count": 26,
     "metadata": {},
     "output_type": "execute_result"
    }
   ],
   "source": [
    "durations = df[df.type==\"Movie\"].duration.apply(lambda s:s.split(' ')[0]).astype(int)\n",
    "durations"
   ]
  },
  {
   "cell_type": "code",
   "execution_count": 37,
   "metadata": {},
   "outputs": [
    {
     "data": {
      "text/plain": [
       "[<matplotlib.lines.Line2D at 0x7f0cde4bcc70>]"
      ]
     },
     "execution_count": 37,
     "metadata": {},
     "output_type": "execute_result"
    },
    {
     "data": {
      "image/png": "[encoded data removed]",
      "text/plain": [
       "<Figure size 600x400 with 1 Axes>"
      ]
     },
     "metadata": {},
     "output_type": "display_data"
    }
   ],
   "source": [
    "# raw data plot\n",
    "fig, ax = plt.subplots(figsize=(6, 4))\n",
    "plt.plot(durations.values, marker='.', linestyle='none')"
   ]
  },
  {
   "attachments": {},
   "cell_type": "markdown",
   "metadata": {},
   "source": [
    "The vast majority of movies are below 200 mins long. \n",
    "There are a few outliers above 200 and one above 300."
   ]
  },
  {
   "cell_type": "code",
   "execution_count": 38,
   "metadata": {},
   "outputs": [
    {
     "data": {
      "image/png": "[encoded data removed]",
      "text/plain": [
       "<Figure size 600x400 with 1 Axes>"
      ]
     },
     "metadata": {},
     "output_type": "display_data"
    }
   ],
   "source": [
    "fig, ax = plt.subplots(figsize=(6, 4))\n",
    "sns.histplot(data=durations)\n",
    "plt.show()"
   ]
  },
  {
   "attachments": {},
   "cell_type": "markdown",
   "metadata": {},
   "source": [
    "Most movies' duration is about 100 mins."
   ]
  },
  {
   "attachments": {},
   "cell_type": "markdown",
   "metadata": {},
   "source": [
    "# Question 8"
   ]
  },
  {
   "cell_type": "code",
   "execution_count": 29,
   "metadata": {},
   "outputs": [
    {
     "data": {
      "text/plain": [
       "827"
      ]
     },
     "execution_count": 29,
     "metadata": {},
     "output_type": "execute_result"
    }
   ],
   "source": [
    "len(durations[durations>120])"
   ]
  },
  {
   "attachments": {},
   "cell_type": "markdown",
   "metadata": {},
   "source": [
    "There are 827 movies with duration larger than 120 min"
   ]
  },
  {
   "attachments": {},
   "cell_type": "markdown",
   "metadata": {},
   "source": [
    "# Question 9"
   ]
  },
  {
   "cell_type": "code",
   "execution_count": 39,
   "metadata": {},
   "outputs": [
    {
     "data": {
      "text/plain": [
       "0.11770222743259086"
      ]
     },
     "execution_count": 39,
     "metadata": {},
     "output_type": "execute_result"
    }
   ],
   "source": [
    "probability = len(durations[durations>130]) / len(durations)\n",
    "probability"
   ]
  },
  {
   "attachments": {},
   "cell_type": "markdown",
   "metadata": {},
   "source": [
    "Based on current data, about 11,77% of movies last longer than 130 minutes.\n",
    "Thus, the probability that answers the question is 11,77%"
   ]
  }
 ],
 "metadata": {
  "kernelspec": {
   "display_name": "venv",
   "language": "python",
   "name": "python3"
  },
  "language_info": {
   "codemirror_mode": {
    "name": "ipython",
    "version": 3
   },
   "file_extension": ".py",
   "mimetype": "text/x-python",
   "name": "python",
   "nbconvert_exporter": "python",
   "pygments_lexer": "ipython3",
   "version": "3.10.10"
  },
  "orig_nbformat": 4
 },
 "nbformat": 4,
 "nbformat_minor": 2
}
